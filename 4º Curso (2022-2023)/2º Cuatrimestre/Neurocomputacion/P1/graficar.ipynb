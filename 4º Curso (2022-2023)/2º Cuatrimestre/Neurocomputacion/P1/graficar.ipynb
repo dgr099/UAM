{
 "cells": [
  {
   "cell_type": "code",
   "execution_count": null,
   "metadata": {},
   "outputs": [],
   "source": [
    "import matplotlib.pyplot as plt\n",
    "import pandas as pd\n",
    "import numpy as np\n",
    "\n",
    "ruta_resultados = \"./predicciones/\""
   ]
  },
  {
   "cell_type": "code",
   "execution_count": null,
   "metadata": {},
   "outputs": [],
   "source": [
    "epocas = pd.read_csv(ruta_resultados + \"epocas.txt\", sep=\" \", header=None)\n",
    "alphas = pd.read_csv(ruta_resultados + \"alphas.txt\", sep=\" \", header=None)\n",
    "tolerancias = pd.read_csv(ruta_resultados + \"tolerancias.txt\", sep=\" \", header=None)\n",
    "umbrales = pd.read_csv(ruta_resultados + \"umbrales.txt\", sep=\" \", header=None)\n"
   ]
  },
  {
   "cell_type": "code",
   "execution_count": null,
   "metadata": {},
   "outputs": [],
   "source": [
    "plt.plot(epocas[0], epocas[1], label=\"AdaLiNe\")\n",
    "plt.plot(epocas[0], epocas[2], label=\"Perceptron\")\n",
    "plt.title(\"Comparativa por épocas\")\n",
    "plt.xlabel(\"Num Epocas\")\n",
    "plt.ylabel(\"Accurate\")\n",
    "plt.legend()\n",
    "plt.show()"
   ]
  },
  {
   "cell_type": "code",
   "execution_count": null,
   "metadata": {},
   "outputs": [],
   "source": [
    "plt.plot(tolerancias[0], tolerancias[1], label=\"AdaLiNe\")\n",
    "plt.plot(tolerancias[0], tolerancias[2], label=\"Perceptron\")\n",
    "plt.title(\"Comparativa por tolerancias\")\n",
    "plt.xlabel(\"Tolerancia\")\n",
    "plt.ylabel(\"Accurate\")\n",
    "plt.legend()\n",
    "plt.show()"
   ]
  },
  {
   "cell_type": "code",
   "execution_count": null,
   "metadata": {},
   "outputs": [],
   "source": [
    "plt.plot(alphas[0], alphas[1], label=\"AdaLiNe\")\n",
    "plt.plot(alphas[0], alphas[2], label=\"Perceptron\")\n",
    "plt.title(\"Comparativa por cte de aprendizaje\")\n",
    "plt.xlabel(\"Cte de aprendizaje\")\n",
    "plt.ylabel(\"Accurate\")\n",
    "plt.legend()\n",
    "plt.show()"
   ]
  },
  {
   "cell_type": "code",
   "execution_count": null,
   "metadata": {},
   "outputs": [],
   "source": [
    "plt.plot(umbrales[0], umbrales[1], label=\"AdaLiNe\")\n",
    "plt.plot(umbrales[0], umbrales[2], label=\"Perceptron\")\n",
    "plt.title(\"Comparativa por umbral\")\n",
    "plt.xlabel(\"Umbral\")\n",
    "plt.ylabel(\"Accurate\")\n",
    "plt.legend()\n",
    "plt.show()"
   ]
  }
 ],
 "metadata": {
  "kernelspec": {
   "display_name": "base",
   "language": "python",
   "name": "python3"
  },
  "language_info": {
   "codemirror_mode": {
    "name": "ipython",
    "version": 3
   },
   "file_extension": ".py",
   "mimetype": "text/x-python",
   "name": "python",
   "nbconvert_exporter": "python",
   "pygments_lexer": "ipython3",
   "version": "3.9.13"
  },
  "orig_nbformat": 4
 },
 "nbformat": 4,
 "nbformat_minor": 2
}
